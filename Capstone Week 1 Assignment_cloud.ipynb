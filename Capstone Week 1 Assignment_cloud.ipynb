{
 "cells": [
  {
   "cell_type": "markdown",
   "metadata": {},
   "source": [
    "# Definition of Problem"
   ]
  },
  {
   "cell_type": "markdown",
   "metadata": {},
   "source": [
    "In this capstone project, we will build a machine learning model that can predict severity of car collisions based on collision data in Seattle from 2004 to present. If we can build a good model that can predict severity of accident well, we can also predict the most dangerous area for car accident. Furthermore, we can use this model to allow emergency resources (e.g., ambulance) more efficiently because we can predict where more severe accidents will be.  "
   ]
  },
  {
   "cell_type": "markdown",
   "metadata": {},
   "source": [
    "# Analysis of Data"
   ]
  },
  {
   "cell_type": "markdown",
   "metadata": {},
   "source": [
    "To analyze data, data visualization has been used"
   ]
  },
  {
   "cell_type": "code",
   "execution_count": 1,
   "metadata": {},
   "outputs": [
    {
     "name": "stdout",
     "output_type": "stream",
     "text": [
      "Collecting ipython-sql\n",
      "  Downloading https://files.pythonhosted.org/packages/ab/3d/0d38357c620df31cebb056ca1804027112e5c008f4c2c0e16d879996ad9f/ipython_sql-0.4.0-py3-none-any.whl\n",
      "Requirement already satisfied: sqlalchemy>=0.6.7 in c:\\users\\djdml\\anaconda3\\lib\\site-packages (from ipython-sql) (1.3.5)\n",
      "Requirement already satisfied: ipython>=1.0 in c:\\users\\djdml\\anaconda3\\lib\\site-packages (from ipython-sql) (7.6.1)\n",
      "Collecting sqlparse (from ipython-sql)\n",
      "  Downloading https://files.pythonhosted.org/packages/85/ee/6e821932f413a5c4b76be9c5936e313e4fc626b33f16e027866e1d60f588/sqlparse-0.3.1-py2.py3-none-any.whl (40kB)\n",
      "Requirement already satisfied: six in c:\\users\\djdml\\anaconda3\\lib\\site-packages (from ipython-sql) (1.12.0)\n",
      "Collecting prettytable<1 (from ipython-sql)\n",
      "  Downloading https://files.pythonhosted.org/packages/ef/30/4b0746848746ed5941f052479e7c23d2b56d174b82f4fd34a25e389831f5/prettytable-0.7.2.tar.bz2\n",
      "Requirement already satisfied: ipython-genutils>=0.1.0 in c:\\users\\djdml\\anaconda3\\lib\\site-packages (from ipython-sql) (0.2.0)\n",
      "Requirement already satisfied: backcall in c:\\users\\djdml\\anaconda3\\lib\\site-packages (from ipython>=1.0->ipython-sql) (0.1.0)\n",
      "Requirement already satisfied: traitlets>=4.2 in c:\\users\\djdml\\anaconda3\\lib\\site-packages (from ipython>=1.0->ipython-sql) (4.3.2)\n",
      "Requirement already satisfied: pygments in c:\\users\\djdml\\anaconda3\\lib\\site-packages (from ipython>=1.0->ipython-sql) (2.4.2)\n",
      "Requirement already satisfied: decorator in c:\\users\\djdml\\anaconda3\\lib\\site-packages (from ipython>=1.0->ipython-sql) (4.4.0)\n",
      "Requirement already satisfied: jedi>=0.10 in c:\\users\\djdml\\anaconda3\\lib\\site-packages (from ipython>=1.0->ipython-sql) (0.13.3)\n",
      "Requirement already satisfied: pickleshare in c:\\users\\djdml\\anaconda3\\lib\\site-packages (from ipython>=1.0->ipython-sql) (0.7.5)\n",
      "Requirement already satisfied: colorama; sys_platform == \"win32\" in c:\\users\\djdml\\anaconda3\\lib\\site-packages (from ipython>=1.0->ipython-sql) (0.4.1)\n",
      "Requirement already satisfied: prompt-toolkit<2.1.0,>=2.0.0 in c:\\users\\djdml\\anaconda3\\lib\\site-packages (from ipython>=1.0->ipython-sql) (2.0.9)\n",
      "Requirement already satisfied: setuptools>=18.5 in c:\\users\\djdml\\anaconda3\\lib\\site-packages (from ipython>=1.0->ipython-sql) (41.0.1)\n",
      "Requirement already satisfied: parso>=0.3.0 in c:\\users\\djdml\\anaconda3\\lib\\site-packages (from jedi>=0.10->ipython>=1.0->ipython-sql) (0.5.0)\n",
      "Requirement already satisfied: wcwidth in c:\\users\\djdml\\anaconda3\\lib\\site-packages (from prompt-toolkit<2.1.0,>=2.0.0->ipython>=1.0->ipython-sql) (0.1.7)\n",
      "Building wheels for collected packages: prettytable\n",
      "  Building wheel for prettytable (setup.py): started\n",
      "  Building wheel for prettytable (setup.py): finished with status 'done'\n",
      "  Stored in directory: C:\\Users\\djdml\\AppData\\Local\\pip\\Cache\\wheels\\80\\34\\1c\\3967380d9676d162cb59513bd9dc862d0584e045a162095606\n",
      "Successfully built prettytable\n",
      "Installing collected packages: sqlparse, prettytable, ipython-sql\n",
      "Successfully installed ipython-sql-0.4.0 prettytable-0.7.2 sqlparse-0.3.1\n",
      "Collecting ibm_db\n",
      "  Downloading https://files.pythonhosted.org/packages/6f/4e/48bf113d4f14b20a5008ea9f7784654041d8f7730c1081b370f569d80c93/ibm_db-3.0.2.tar.gz (718kB)\n",
      "Building wheels for collected packages: ibm-db\n",
      "  Building wheel for ibm-db (setup.py): started\n",
      "  Building wheel for ibm-db (setup.py): finished with status 'done'\n",
      "  Stored in directory: C:\\Users\\djdml\\AppData\\Local\\pip\\Cache\\wheels\\84\\64\\42\\10b217b545e8085b72160632c61bfa0909f661dad89326a956\n",
      "Successfully built ibm-db\n",
      "Installing collected packages: ibm-db\n",
      "Successfully installed ibm-db-3.0.2\n",
      "Collecting ibm_db_sa\n",
      "  Downloading https://files.pythonhosted.org/packages/a4/7f/8301cafde62a8a86f7ca9b5b64663431900217742b799797739760c5b9ea/ibm_db_sa-0.3.5.tar.gz\n",
      "Requirement already satisfied: sqlalchemy>=0.7.3 in c:\\users\\djdml\\anaconda3\\lib\\site-packages (from ibm_db_sa) (1.3.5)\n",
      "Requirement already satisfied: ibm_db>=2.0.0 in c:\\users\\djdml\\anaconda3\\lib\\site-packages (from ibm_db_sa) (3.0.2)\n",
      "Building wheels for collected packages: ibm-db-sa\n",
      "  Building wheel for ibm-db-sa (setup.py): started\n",
      "  Building wheel for ibm-db-sa (setup.py): finished with status 'done'\n",
      "  Stored in directory: C:\\Users\\djdml\\AppData\\Local\\pip\\Cache\\wheels\\7f\\0b\\94\\ecb455e6d4042de08ee2f1b623a1e76d30e4e46f526d3763f3\n",
      "Successfully built ibm-db-sa\n",
      "Installing collected packages: ibm-db-sa\n",
      "Successfully installed ibm-db-sa-0.3.5\n"
     ]
    }
   ],
   "source": [
    "# Install required packages for ibm-sql\n",
    "!pip install ipython-sql\n",
    "!pip install ibm_db \n",
    "!pip install ibm_db_sa"
   ]
  },
  {
   "cell_type": "code",
   "execution_count": 2,
   "metadata": {},
   "outputs": [],
   "source": [
    "#import required packages\n",
    "import ibm_db\n",
    "import ibm_db_sa\n",
    "import sqlalchemy\n",
    "import pandas as pd\n",
    "import numpy as np\n",
    "%load_ext sql"
   ]
  },
  {
   "cell_type": "code",
   "execution_count": 3,
   "metadata": {},
   "outputs": [],
   "source": [
    "# SQL database connection\n",
    "%sql ibm_db_sa://crg16556:l2g391z0bf4c1n-k@dashdb-txn-sbox-yp-dal09-08.services.dal.bluemix.net:50000/BLUDB"
   ]
  },
  {
   "cell_type": "code",
   "execution_count": 4,
   "metadata": {},
   "outputs": [
    {
     "name": "stdout",
     "output_type": "stream",
     "text": [
      " * ibm_db_sa://crg16556:***@dashdb-txn-sbox-yp-dal09-08.services.dal.bluemix.net:50000/BLUDB\n",
      "Done.\n"
     ]
    }
   ],
   "source": [
    "# Loading data from db2\n",
    "table1 = %sql select * from Collision"
   ]
  },
  {
   "cell_type": "code",
   "execution_count": 5,
   "metadata": {},
   "outputs": [],
   "source": [
    "# Making dataframe from data from db2\n",
    "table_pd = pd.DataFrame(table1)\n",
    "table_pd.columns = table1.keys"
   ]
  },
  {
   "cell_type": "code",
   "execution_count": 6,
   "metadata": {},
   "outputs": [
    {
     "data": {
      "text/html": [
       "<div>\n",
       "<style scoped>\n",
       "    .dataframe tbody tr th:only-of-type {\n",
       "        vertical-align: middle;\n",
       "    }\n",
       "\n",
       "    .dataframe tbody tr th {\n",
       "        vertical-align: top;\n",
       "    }\n",
       "\n",
       "    .dataframe thead th {\n",
       "        text-align: right;\n",
       "    }\n",
       "</style>\n",
       "<table border=\"1\" class=\"dataframe\">\n",
       "  <thead>\n",
       "    <tr style=\"text-align: right;\">\n",
       "      <th></th>\n",
       "      <th>severitycode</th>\n",
       "      <th>objectid</th>\n",
       "      <th>inckey</th>\n",
       "      <th>coldetkey</th>\n",
       "      <th>intkey</th>\n",
       "      <th>severitycode_1</th>\n",
       "      <th>personcount</th>\n",
       "      <th>pedcount</th>\n",
       "      <th>pedcylcount</th>\n",
       "      <th>vehcount</th>\n",
       "      <th>sdot_colcode</th>\n",
       "      <th>sdotcolnum</th>\n",
       "      <th>st_colcode</th>\n",
       "      <th>seglanekey</th>\n",
       "      <th>crosswalkkey</th>\n",
       "    </tr>\n",
       "  </thead>\n",
       "  <tbody>\n",
       "    <tr>\n",
       "      <th>count</th>\n",
       "      <td>194673.000000</td>\n",
       "      <td>194673.000000</td>\n",
       "      <td>194673.000000</td>\n",
       "      <td>194673.000000</td>\n",
       "      <td>65070.000000</td>\n",
       "      <td>194673.000000</td>\n",
       "      <td>194673.000000</td>\n",
       "      <td>194673.000000</td>\n",
       "      <td>194673.000000</td>\n",
       "      <td>194673.000000</td>\n",
       "      <td>194673.000000</td>\n",
       "      <td>1.149360e+05</td>\n",
       "      <td>189769.000000</td>\n",
       "      <td>194673.000000</td>\n",
       "      <td>1.946730e+05</td>\n",
       "    </tr>\n",
       "    <tr>\n",
       "      <th>mean</th>\n",
       "      <td>1.298901</td>\n",
       "      <td>108479.364930</td>\n",
       "      <td>141091.456350</td>\n",
       "      <td>141298.811381</td>\n",
       "      <td>37558.450576</td>\n",
       "      <td>1.298901</td>\n",
       "      <td>2.444427</td>\n",
       "      <td>0.037139</td>\n",
       "      <td>0.028391</td>\n",
       "      <td>1.920780</td>\n",
       "      <td>13.867768</td>\n",
       "      <td>7.972521e+06</td>\n",
       "      <td>22.857822</td>\n",
       "      <td>269.401114</td>\n",
       "      <td>9.782452e+03</td>\n",
       "    </tr>\n",
       "    <tr>\n",
       "      <th>std</th>\n",
       "      <td>0.457778</td>\n",
       "      <td>62649.722558</td>\n",
       "      <td>86634.402737</td>\n",
       "      <td>86986.542110</td>\n",
       "      <td>51745.990273</td>\n",
       "      <td>0.457778</td>\n",
       "      <td>1.345929</td>\n",
       "      <td>0.198150</td>\n",
       "      <td>0.167413</td>\n",
       "      <td>0.631047</td>\n",
       "      <td>6.868755</td>\n",
       "      <td>2.553533e+06</td>\n",
       "      <td>14.515985</td>\n",
       "      <td>3315.776055</td>\n",
       "      <td>7.226926e+04</td>\n",
       "    </tr>\n",
       "    <tr>\n",
       "      <th>min</th>\n",
       "      <td>1.000000</td>\n",
       "      <td>1.000000</td>\n",
       "      <td>1001.000000</td>\n",
       "      <td>1001.000000</td>\n",
       "      <td>23807.000000</td>\n",
       "      <td>1.000000</td>\n",
       "      <td>0.000000</td>\n",
       "      <td>0.000000</td>\n",
       "      <td>0.000000</td>\n",
       "      <td>0.000000</td>\n",
       "      <td>0.000000</td>\n",
       "      <td>1.007024e+06</td>\n",
       "      <td>0.000000</td>\n",
       "      <td>0.000000</td>\n",
       "      <td>0.000000e+00</td>\n",
       "    </tr>\n",
       "    <tr>\n",
       "      <th>25%</th>\n",
       "      <td>1.000000</td>\n",
       "      <td>54267.000000</td>\n",
       "      <td>70383.000000</td>\n",
       "      <td>70383.000000</td>\n",
       "      <td>28667.000000</td>\n",
       "      <td>1.000000</td>\n",
       "      <td>2.000000</td>\n",
       "      <td>0.000000</td>\n",
       "      <td>0.000000</td>\n",
       "      <td>2.000000</td>\n",
       "      <td>11.000000</td>\n",
       "      <td>6.040015e+06</td>\n",
       "      <td>11.000000</td>\n",
       "      <td>0.000000</td>\n",
       "      <td>0.000000e+00</td>\n",
       "    </tr>\n",
       "    <tr>\n",
       "      <th>50%</th>\n",
       "      <td>1.000000</td>\n",
       "      <td>106912.000000</td>\n",
       "      <td>123363.000000</td>\n",
       "      <td>123363.000000</td>\n",
       "      <td>29973.000000</td>\n",
       "      <td>1.000000</td>\n",
       "      <td>2.000000</td>\n",
       "      <td>0.000000</td>\n",
       "      <td>0.000000</td>\n",
       "      <td>2.000000</td>\n",
       "      <td>13.000000</td>\n",
       "      <td>8.023022e+06</td>\n",
       "      <td>16.000000</td>\n",
       "      <td>0.000000</td>\n",
       "      <td>0.000000e+00</td>\n",
       "    </tr>\n",
       "    <tr>\n",
       "      <th>75%</th>\n",
       "      <td>2.000000</td>\n",
       "      <td>162272.000000</td>\n",
       "      <td>203319.000000</td>\n",
       "      <td>203459.000000</td>\n",
       "      <td>33973.000000</td>\n",
       "      <td>2.000000</td>\n",
       "      <td>3.000000</td>\n",
       "      <td>0.000000</td>\n",
       "      <td>0.000000</td>\n",
       "      <td>2.000000</td>\n",
       "      <td>14.000000</td>\n",
       "      <td>1.015501e+07</td>\n",
       "      <td>32.000000</td>\n",
       "      <td>0.000000</td>\n",
       "      <td>0.000000e+00</td>\n",
       "    </tr>\n",
       "    <tr>\n",
       "      <th>max</th>\n",
       "      <td>2.000000</td>\n",
       "      <td>219547.000000</td>\n",
       "      <td>331454.000000</td>\n",
       "      <td>332954.000000</td>\n",
       "      <td>757580.000000</td>\n",
       "      <td>2.000000</td>\n",
       "      <td>81.000000</td>\n",
       "      <td>6.000000</td>\n",
       "      <td>2.000000</td>\n",
       "      <td>12.000000</td>\n",
       "      <td>69.000000</td>\n",
       "      <td>1.307202e+07</td>\n",
       "      <td>88.000000</td>\n",
       "      <td>525241.000000</td>\n",
       "      <td>5.239700e+06</td>\n",
       "    </tr>\n",
       "  </tbody>\n",
       "</table>\n",
       "</div>"
      ],
      "text/plain": [
       "        severitycode       objectid         inckey      coldetkey  \\\n",
       "count  194673.000000  194673.000000  194673.000000  194673.000000   \n",
       "mean        1.298901  108479.364930  141091.456350  141298.811381   \n",
       "std         0.457778   62649.722558   86634.402737   86986.542110   \n",
       "min         1.000000       1.000000    1001.000000    1001.000000   \n",
       "25%         1.000000   54267.000000   70383.000000   70383.000000   \n",
       "50%         1.000000  106912.000000  123363.000000  123363.000000   \n",
       "75%         2.000000  162272.000000  203319.000000  203459.000000   \n",
       "max         2.000000  219547.000000  331454.000000  332954.000000   \n",
       "\n",
       "              intkey  severitycode_1    personcount       pedcount  \\\n",
       "count   65070.000000   194673.000000  194673.000000  194673.000000   \n",
       "mean    37558.450576        1.298901       2.444427       0.037139   \n",
       "std     51745.990273        0.457778       1.345929       0.198150   \n",
       "min     23807.000000        1.000000       0.000000       0.000000   \n",
       "25%     28667.000000        1.000000       2.000000       0.000000   \n",
       "50%     29973.000000        1.000000       2.000000       0.000000   \n",
       "75%     33973.000000        2.000000       3.000000       0.000000   \n",
       "max    757580.000000        2.000000      81.000000       6.000000   \n",
       "\n",
       "         pedcylcount       vehcount   sdot_colcode    sdotcolnum  \\\n",
       "count  194673.000000  194673.000000  194673.000000  1.149360e+05   \n",
       "mean        0.028391       1.920780      13.867768  7.972521e+06   \n",
       "std         0.167413       0.631047       6.868755  2.553533e+06   \n",
       "min         0.000000       0.000000       0.000000  1.007024e+06   \n",
       "25%         0.000000       2.000000      11.000000  6.040015e+06   \n",
       "50%         0.000000       2.000000      13.000000  8.023022e+06   \n",
       "75%         0.000000       2.000000      14.000000  1.015501e+07   \n",
       "max         2.000000      12.000000      69.000000  1.307202e+07   \n",
       "\n",
       "          st_colcode     seglanekey  crosswalkkey  \n",
       "count  189769.000000  194673.000000  1.946730e+05  \n",
       "mean       22.857822     269.401114  9.782452e+03  \n",
       "std        14.515985    3315.776055  7.226926e+04  \n",
       "min         0.000000       0.000000  0.000000e+00  \n",
       "25%        11.000000       0.000000  0.000000e+00  \n",
       "50%        16.000000       0.000000  0.000000e+00  \n",
       "75%        32.000000       0.000000  0.000000e+00  \n",
       "max        88.000000  525241.000000  5.239700e+06  "
      ]
     },
     "execution_count": 6,
     "metadata": {},
     "output_type": "execute_result"
    }
   ],
   "source": [
    "# To explore data, we first describe data\n",
    "table_pd.describe()"
   ]
  },
  {
   "cell_type": "markdown",
   "metadata": {},
   "source": [
    "We can see that the maximum severitycode is 2 while the minimum is 1. \n",
    "To see whether our data is imbalanced, we check the percentage of each severitycode"
   ]
  },
  {
   "cell_type": "code",
   "execution_count": 24,
   "metadata": {},
   "outputs": [],
   "source": [
    "# To draw plots, matplotlib library is imported\n",
    "import matplotlib.pyplot as plt"
   ]
  },
  {
   "cell_type": "code",
   "execution_count": 25,
   "metadata": {},
   "outputs": [
    {
     "data": {
      "text/plain": [
       "<matplotlib.axes._subplots.AxesSubplot at 0x244170d8c18>"
      ]
     },
     "execution_count": 25,
     "metadata": {},
     "output_type": "execute_result"
    },
    {
     "data": {
      "image/png": "[encoded data removed]",
      "text/plain": [
       "<Figure size 432x288 with 1 Axes>"
      ]
     },
     "metadata": {
      "needs_background": "light"
     },
     "output_type": "display_data"
    }
   ],
   "source": [
    "plt.figure()\n",
    "table_pd['severitycode'].plot.hist(bins=2)"
   ]
  },
  {
   "cell_type": "markdown",
   "metadata": {},
   "source": [
    "We can see that our data is imbalanced (i.e., non-severe accidents with severity 1 are almost three times more than those with severity 2)."
   ]
  },
  {
   "cell_type": "code",
   "execution_count": 26,
   "metadata": {},
   "outputs": [
    {
     "data": {
      "text/plain": [
       "37"
      ]
     },
     "execution_count": 26,
     "metadata": {},
     "output_type": "execute_result"
    }
   ],
   "source": [
    "# To check the number of features\n",
    "# Severity is target, so we ignore this feature\n",
    "len(table_pd.columns)-1"
   ]
  },
  {
   "cell_type": "markdown",
   "metadata": {},
   "source": [
    "There are 37 features that we can use for training"
   ]
  },
  {
   "cell_type": "code",
   "execution_count": 27,
   "metadata": {},
   "outputs": [
    {
     "data": {
      "text/plain": [
       "severitycode               int64\n",
       "x                         object\n",
       "y                         object\n",
       "objectid                   int64\n",
       "inckey                     int64\n",
       "coldetkey                  int64\n",
       "reportno                  object\n",
       "status                    object\n",
       "addrtype                  object\n",
       "intkey                   float64\n",
       "location                  object\n",
       "exceptrsncode             object\n",
       "exceptrsndesc             object\n",
       "severitycode_1             int64\n",
       "severitydesc              object\n",
       "collisiontype             object\n",
       "personcount                int64\n",
       "pedcount                   int64\n",
       "pedcylcount                int64\n",
       "vehcount                   int64\n",
       "incdate           datetime64[ns]\n",
       "incdttm                   object\n",
       "junctiontype              object\n",
       "sdot_colcode               int64\n",
       "sdot_coldesc              object\n",
       "inattentionind            object\n",
       "underinfl                 object\n",
       "weather                   object\n",
       "roadcond                  object\n",
       "lightcond                 object\n",
       "pedrownotgrnt             object\n",
       "sdotcolnum               float64\n",
       "speeding                  object\n",
       "st_colcode               float64\n",
       "st_coldesc                object\n",
       "seglanekey                 int64\n",
       "crosswalkkey               int64\n",
       "hitparkedcar              object\n",
       "dtype: object"
      ]
     },
     "execution_count": 27,
     "metadata": {},
     "output_type": "execute_result"
    }
   ],
   "source": [
    "# To check data types\n",
    "table_pd.dtypes"
   ]
  },
  {
   "cell_type": "code",
   "execution_count": 31,
   "metadata": {},
   "outputs": [
    {
     "data": {
      "text/plain": [
       "0    Overcast\n",
       "1     Raining\n",
       "2    Overcast\n",
       "3       Clear\n",
       "4     Raining\n",
       "Name: weather, dtype: object"
      ]
     },
     "execution_count": 31,
     "metadata": {},
     "output_type": "execute_result"
    }
   ],
   "source": [
    "# To check weather data, which is possibly useful for training\n",
    "table_pd['weather'].head(5)"
   ]
  },
  {
   "cell_type": "code",
   "execution_count": 32,
   "metadata": {},
   "outputs": [
    {
     "data": {
      "text/plain": [
       "0    Wet\n",
       "1    Wet\n",
       "2    Dry\n",
       "3    Dry\n",
       "4    Wet\n",
       "Name: roadcond, dtype: object"
      ]
     },
     "execution_count": 32,
     "metadata": {},
     "output_type": "execute_result"
    }
   ],
   "source": [
    "# To check road condition, which is possibly useful for training\n",
    "table_pd['roadcond'].head(5)"
   ]
  },
  {
   "cell_type": "code",
   "execution_count": 33,
   "metadata": {},
   "outputs": [
    {
     "data": {
      "text/plain": [
       "0                   Daylight\n",
       "1    Dark - Street Lights On\n",
       "2                   Daylight\n",
       "3                   Daylight\n",
       "4                   Daylight\n",
       "Name: lightcond, dtype: object"
      ]
     },
     "execution_count": 33,
     "metadata": {},
     "output_type": "execute_result"
    }
   ],
   "source": [
    "# To check light condition, which is possibly useful for training\n",
    "table_pd['lightcond'].head(5)"
   ]
  },
  {
   "cell_type": "code",
   "execution_count": 36,
   "metadata": {},
   "outputs": [
    {
     "data": {
      "text/plain": [
       "0    None\n",
       "1    None\n",
       "2    None\n",
       "3    None\n",
       "4    None\n",
       "Name: speeding, dtype: object"
      ]
     },
     "execution_count": 36,
     "metadata": {},
     "output_type": "execute_result"
    }
   ],
   "source": [
    "# Speeding can be very informative for severe accident\n",
    "table_pd['speeding'].head(5)"
   ]
  },
  {
   "cell_type": "code",
   "execution_count": null,
   "metadata": {},
   "outputs": [],
   "source": []
  }
 ],
 "metadata": {
  "kernelspec": {
   "display_name": "Python 3",
   "language": "python",
   "name": "python3"
  },
  "language_info": {
   "codemirror_mode": {
    "name": "ipython",
    "version": 3
   },
   "file_extension": ".py",
   "mimetype": "text/x-python",
   "name": "python",
   "nbconvert_exporter": "python",
   "pygments_lexer": "ipython3",
   "version": "3.7.3"
  }
 },
 "nbformat": 4,
 "nbformat_minor": 1
}
